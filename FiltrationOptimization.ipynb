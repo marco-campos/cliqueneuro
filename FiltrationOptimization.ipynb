{
 "cells": [
  {
   "cell_type": "code",
   "execution_count": 1,
   "id": "1061b8ba-cf2e-48f6-8acc-71698759a64c",
   "metadata": {},
   "outputs": [],
   "source": [
    "from graph_gen import * \n",
    "from visualize_tools import *\n",
    "from clique_functions import *\n",
    "\n",
    "import gudhi\n",
    "import math\n",
    "import matplotlib.pyplot as plt\n",
    "from tqdm import tqdm\n",
    "from IPython.display import display, HTML"
   ]
  },
  {
   "cell_type": "code",
   "execution_count": 8,
   "id": "866cad8b-54ce-4041-a8d0-b484de0bfd26",
   "metadata": {},
   "outputs": [],
   "source": [
    "def cliques_up_to_d(G, max_dim):\n",
    "    #TODO: Optimize this so that the vertexes and edges are added immediately, \n",
    "    # that way we only look for 3 and 4 dimensional cliques.\n",
    "    cliques = []\n",
    "    for node in G.nodes():\n",
    "        for clique in cliques:\n",
    "            if all(G.has_edge(node, n) for n in clique):\n",
    "                new_clique = clique + [node]\n",
    "                if len(new_clique) <= max_dim:\n",
    "                    cliques.append(new_clique)\n",
    "        cliques.append([node])\n",
    "    return cliques"
   ]
  },
  {
   "cell_type": "code",
   "execution_count": 2,
   "id": "3ad59934-1ab3-4783-9ba7-98a9f36d4367",
   "metadata": {},
   "outputs": [],
   "source": [
    "def gudhi_filtration(graph_filtration, N):\n",
    "    clique_filtration = []\n",
    "    \n",
    "    for n, graph in enumerate(tqdm(graph_filtration)):\n",
    "        current_cliques = cliques_up_to_d(graph[1], 4)\n",
    "        current_clique_simplices = []\n",
    "        for clique in current_cliques:\n",
    "            if len(clique)>2 and len(clique)<5:\n",
    "                current_clique_simplices.append(clique)\n",
    "        clique_filtration.append((graph_filtration[n], current_clique_simplices))\n",
    "\n",
    "    print(\"Cliques Computes\")\n",
    "\n",
    "    st = gudhi.SimplexTree()\n",
    "    edges_used = []\n",
    "    cliques_used = []\n",
    "\n",
    "    print(\"Building Clique Complex\")\n",
    "    \n",
    "    for alpha_n in tqdm(clique_filtration):\n",
    "        alpha = alpha_n[0][0]\n",
    "        edges = alpha_n[0][1].edges\n",
    "        \n",
    "        for edge in edges:\n",
    "            if list(edge) in edges_used:\n",
    "                pass\n",
    "            else:\n",
    "                st.insert(list(edge), filtration = alpha)\n",
    "                edges_used.append(list(edge))\n",
    "        cliques = alpha_n[1]\n",
    "        for clique in cliques:\n",
    "            if list(clique) in cliques_used:\n",
    "                pass\n",
    "            else:\n",
    "                st.insert(list(clique), filtration = alpha)\n",
    "                cliques_used.append(list(clique))\n",
    "    return st"
   ]
  },
  {
   "cell_type": "code",
   "execution_count": 3,
   "id": "abda2f23-4de3-47b0-b33b-fb266cc0405c",
   "metadata": {},
   "outputs": [],
   "source": [
    "def g_betti_curve(filtration, dimension):\n",
    "    betti_curve = []\n",
    "    persistence = filtration.persistence(homology_coeff_field = 2, persistence_dim_max=True)\n",
    "    filtered_tuples = [(start, end) for dim, (start, end) in persistence if dim == dimension]\n",
    "\n",
    "    if len(filtered_tuples) > 0:\n",
    "        # Determine the overall time span for the plot\n",
    "        min_start = min(start for start, _ in filtered_tuples)\n",
    "        max_end = max(end if type(end) != float else 1 for _, end in filtered_tuples)  # Convert \"inf\" to 1\n",
    "    \n",
    "        num_points = max(1000, 2*len(filtered_tuples))\n",
    "        # Create a range of x values for the plot\n",
    "        x = np.linspace(0, 1, num_points)\n",
    "        \n",
    "        # Initialize the curve as an array of zeros\n",
    "        curve = np.zeros_like(x)\n",
    "        \n",
    "        # Create step functions for each (start, end) range and sum them\n",
    "        for start, end in filtered_tuples:\n",
    "            curve += np.where((x >= start) & (x <= end), 1, 0)\n",
    "    else:\n",
    "        x, curve = [],[]\n",
    "    return x, curve"
   ]
  },
  {
   "cell_type": "code",
   "execution_count": 4,
   "id": "b65bdfba-0d7f-4eb5-be89-cb91cd01cd73",
   "metadata": {},
   "outputs": [],
   "source": [
    "N = 30\n",
    "random_graph_matrix = generate_random_graph_matrix(N)\n",
    "off_diag = get_off_diagonal_entries(random_graph_matrix)"
   ]
  },
  {
   "cell_type": "code",
   "execution_count": 5,
   "id": "a03c4fb4-a3a0-4d4d-a5e5-bf20205fa8bd",
   "metadata": {},
   "outputs": [],
   "source": [
    "edge_filtration = get_edge_filtration(off_diag)"
   ]
  },
  {
   "cell_type": "code",
   "execution_count": 6,
   "id": "ab2aec1e-ec61-4e9e-9220-0d67d08daca8",
   "metadata": {},
   "outputs": [],
   "source": [
    "graph_filtration = generate_graph_filtration(edge_filtration)"
   ]
  },
  {
   "cell_type": "code",
   "execution_count": 7,
   "id": "a527d6b8-9d9b-4696-bf60-831347e54ad0",
   "metadata": {},
   "outputs": [
    {
     "name": "stderr",
     "output_type": "stream",
     "text": [
      "  0%|                                                                                           | 0/435 [00:00<?, ?it/s]\n"
     ]
    },
    {
     "ename": "NameError",
     "evalue": "name 'cliques_up_to_d' is not defined",
     "output_type": "error",
     "traceback": [
      "\u001b[0;31m---------------------------------------------------------------------------\u001b[0m",
      "\u001b[0;31mNameError\u001b[0m                                 Traceback (most recent call last)",
      "Cell \u001b[0;32mIn[7], line 1\u001b[0m\n\u001b[0;32m----> 1\u001b[0m g_filtration \u001b[38;5;241m=\u001b[39m \u001b[43mgudhi_filtration\u001b[49m\u001b[43m(\u001b[49m\u001b[43mgraph_filtration\u001b[49m\u001b[43m,\u001b[49m\u001b[43m \u001b[49m\u001b[43mN\u001b[49m\u001b[43m)\u001b[49m\n",
      "Cell \u001b[0;32mIn[2], line 5\u001b[0m, in \u001b[0;36mgudhi_filtration\u001b[0;34m(graph_filtration, N)\u001b[0m\n\u001b[1;32m      2\u001b[0m clique_filtration \u001b[38;5;241m=\u001b[39m []\n\u001b[1;32m      4\u001b[0m \u001b[38;5;28;01mfor\u001b[39;00m n, graph \u001b[38;5;129;01min\u001b[39;00m \u001b[38;5;28menumerate\u001b[39m(tqdm(graph_filtration)):\n\u001b[0;32m----> 5\u001b[0m     current_cliques \u001b[38;5;241m=\u001b[39m \u001b[43mcliques_up_to_d\u001b[49m(graph[\u001b[38;5;241m1\u001b[39m], \u001b[38;5;241m4\u001b[39m)\n\u001b[1;32m      6\u001b[0m     current_clique_simplices \u001b[38;5;241m=\u001b[39m []\n\u001b[1;32m      7\u001b[0m     \u001b[38;5;28;01mfor\u001b[39;00m clique \u001b[38;5;129;01min\u001b[39;00m current_cliques:\n",
      "\u001b[0;31mNameError\u001b[0m: name 'cliques_up_to_d' is not defined"
     ]
    }
   ],
   "source": [
    "g_filtration = gudhi_filtration(graph_filtration, N)"
   ]
  },
  {
   "cell_type": "code",
   "execution_count": 284,
   "id": "6e6d73aa-61ec-46db-970f-55f4bf36877f",
   "metadata": {},
   "outputs": [
    {
     "data": {
      "image/png": "[encoded data removed]",
      "text/plain": [
       "<Figure size 640x480 with 1 Axes>"
      ]
     },
     "metadata": {},
     "output_type": "display_data"
    }
   ],
   "source": [
    "x0, b0 = g_betti_curve(g_filtration, 0)\n",
    "x1, b1 = betti_1 = g_betti_curve(g_filtration, 1)\n",
    "x2, b2 = g_betti_curve(g_filtration, 2)\n",
    "x3, b3 = g_betti_curve(g_filtration, 3)\n",
    "\n",
    "\n",
    "# Initialize a color map for distinguishing curves\n",
    "color_map = plt.get_cmap('viridis')\n",
    "\n",
    "# Create a figure and axis\n",
    "fig, ax = plt.subplots()\n",
    "\n",
    "ax.plot(x0, b0, label=\"B0\", color=\"blue\")\n",
    "ax.plot(x1, b1, label=\"B1\", color=\"purple\")\n",
    "ax.plot(x2, b2, label=\"B2\", color=\"red\")\n",
    "# ax.plot(x3, b3, label=\"B3\", color=\"orange\")\n",
    "\n",
    "# Set labels and legend\n",
    "ax.set_xlabel('Filtration Value')\n",
    "ax.set_ylabel('Number of n-Cycles')\n",
    "ax.set_title('Betti Curves')\n",
    "ax.legend()\n",
    "\n",
    "plt.show()"
   ]
  }
 ],
 "metadata": {
  "kernelspec": {
   "display_name": "clique",
   "language": "python",
   "name": "clique"
  },
  "language_info": {
   "codemirror_mode": {
    "name": "ipython",
    "version": 3
   },
   "file_extension": ".py",
   "mimetype": "text/x-python",
   "name": "python",
   "nbconvert_exporter": "python",
   "pygments_lexer": "ipython3",
   "version": "3.9.18"
  }
 },
 "nbformat": 4,
 "nbformat_minor": 5
}
