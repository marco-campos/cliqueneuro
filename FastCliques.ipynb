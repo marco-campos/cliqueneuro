{
 "cells": [
  {
   "cell_type": "code",
   "execution_count": 76,
   "id": "fafd1ef4-8dd2-4b43-9eba-a7c05e27d195",
   "metadata": {},
   "outputs": [],
   "source": [
    "import networkx as nx\n",
    "from graph_gen import * \n",
    "from visualize_tools import *\n",
    "from clique_functions import *\n",
    "import time\n",
    "\n",
    "def find_cliques_recursive(G, nodes, d, start_node=None, curr_clique=None):\n",
    "    \"\"\"\n",
    "    A recursive function to find cliques of size up to d.\n",
    "    \"\"\"\n",
    "    if curr_clique is None:\n",
    "        curr_clique = []\n",
    "    if start_node is None:\n",
    "        cliques = []\n",
    "        for node in nodes:\n",
    "            cliques += find_cliques_recursive(G, nodes, d, node, [node])\n",
    "        return cliques\n",
    "    else:\n",
    "        cliques = [curr_clique]\n",
    "        if len(curr_clique) < d:\n",
    "            neighbors = list(set(G.neighbors(start_node)) & set(nodes))\n",
    "            for neighbor in neighbors:\n",
    "                if neighbor > start_node:  # Avoid duplicates\n",
    "                    cliques += find_cliques_recursive(G, nodes, d, neighbor, curr_clique + [neighbor])\n",
    "        return cliques\n",
    "\n",
    "def cliques_up_to_d(G, d):\n",
    "    \"\"\"\n",
    "    Find all cliques in the graph of size up to d.\n",
    "\n",
    "    Parameters:\n",
    "    - G: the input graph.\n",
    "    - d: the maximum size of cliques to be returned.\n",
    "\n",
    "    Returns:\n",
    "    - A list of cliques (each clique is a list of nodes).\n",
    "    \"\"\"\n",
    "    nodes = list(G.nodes())\n",
    "    cliques = find_cliques_recursive(G, nodes, d)\n",
    "    return [clique for clique in cliques if len(clique) <= d]\n",
    "\n"
   ]
  },
  {
   "cell_type": "code",
   "execution_count": 93,
   "id": "ca8169cc-8bd9-4e76-bba1-e9a8fc147d63",
   "metadata": {},
   "outputs": [],
   "source": [
    "N = 30\n",
    "random_graph_matrix = generate_random_graph_matrix(N)\n",
    "off_diag = get_off_diagonal_entries(random_graph_matrix)"
   ]
  },
  {
   "cell_type": "code",
   "execution_count": 94,
   "id": "f6a1bb95-35e7-4dde-aabb-665627f069a3",
   "metadata": {},
   "outputs": [],
   "source": [
    "edge_filtration = get_edge_filtration(off_diag)"
   ]
  },
  {
   "cell_type": "code",
   "execution_count": 95,
   "id": "9a153849-a92a-4ea3-882b-08b9aa018bef",
   "metadata": {},
   "outputs": [],
   "source": [
    "graph_filtration = generate_graph_filtration(edge_filtration)"
   ]
  },
  {
   "cell_type": "code",
   "execution_count": 97,
   "id": "593b9ba5-d64a-446a-b692-5b9d37dfb013",
   "metadata": {},
   "outputs": [
    {
     "name": "stdout",
     "output_type": "stream",
     "text": [
      "Time for fast clique algorithm: 15.634971618652344 s\n"
     ]
    }
   ],
   "source": [
    "fast_clique_filtration = []\n",
    "\n",
    "start_time = time.time()\n",
    "\n",
    "for n, graph in enumerate(graph_filtration):\n",
    "    current_cliques = cliques_up_to_d(graph[1], 4)\n",
    "    current_clique_simplices = []\n",
    "    for clique in current_cliques:\n",
    "        if len(clique)>2 and len(clique)<5:\n",
    "            current_clique_simplices.append(clique)\n",
    "    fast_clique_filtration.append((graph_filtration[n], current_clique_simplices))\n",
    "\n",
    "\n",
    "end_time = time.time()\n",
    "run_time = end_time-start_time\n",
    "print(f\"Time for fast clique algorithm: {run_time} s\")"
   ]
  },
  {
   "cell_type": "code",
   "execution_count": 85,
   "id": "07085102-2c90-4960-8e52-a7b19acf6bae",
   "metadata": {},
   "outputs": [],
   "source": [
    "arr1 = fast_clique_filtration[-1][1]"
   ]
  },
  {
   "cell_type": "code",
   "execution_count": 86,
   "id": "15efb3a5-d66b-490d-a939-3b4e0b00f621",
   "metadata": {},
   "outputs": [
    {
     "name": "stdout",
     "output_type": "stream",
     "text": [
      "Time for fast clique algorithm: 66.61149334907532 s\n"
     ]
    }
   ],
   "source": [
    "clique_filtration=[]\n",
    "\n",
    "start_time = time.time()\n",
    "\n",
    "for n, graph in enumerate(graph_filtration):\n",
    "        current_cliques = nx.enumerate_all_cliques(graph[1])\n",
    "        current_clique_simplices = []\n",
    "        for clique in current_cliques:\n",
    "            if len(clique)>2 and len(clique) < 5:\n",
    "                current_clique_simplices.append(clique)\n",
    "        clique_filtration.append((graph_filtration[n], current_clique_simplices))\n",
    "\n",
    "end_time = time.time()\n",
    "run_time = end_time-start_time\n",
    "print(f\"Time for fast clique algorithm: {run_time} s\")"
   ]
  },
  {
   "cell_type": "code",
   "execution_count": 87,
   "id": "4b99f52c-a82c-4805-b6d6-fb34bf67fdc1",
   "metadata": {},
   "outputs": [],
   "source": [
    "arr2 = clique_filtration[-1][1]"
   ]
  },
  {
   "cell_type": "code",
   "execution_count": 88,
   "id": "a186745b-167f-4f85-be74-932c36908191",
   "metadata": {},
   "outputs": [],
   "source": [
    "def is_subarray_present(sub, arr2):\n",
    "    sub_sorted = sorted(sub)\n",
    "    for array in arr2:\n",
    "        if sub_sorted == sorted(array):\n",
    "            return True\n",
    "    return False\n",
    "\n",
    "def are_all_subarrays_present(arr1, arr2):\n",
    "    for sub in arr1:\n",
    "        if not is_subarray_present(sub, arr2):\n",
    "            return False\n",
    "    return True"
   ]
  },
  {
   "cell_type": "code",
   "execution_count": 89,
   "id": "b6c52914-18c0-4e3a-a674-446956dcea47",
   "metadata": {},
   "outputs": [
    {
     "name": "stdout",
     "output_type": "stream",
     "text": [
      "True\n"
     ]
    }
   ],
   "source": [
    "print(are_all_subarrays_present(arr1, arr2)) \n"
   ]
  },
  {
   "cell_type": "code",
   "execution_count": null,
   "id": "9fc2b108-c24f-4fff-986e-95ce2098091c",
   "metadata": {},
   "outputs": [],
   "source": []
  }
 ],
 "metadata": {
  "kernelspec": {
   "display_name": "clique",
   "language": "python",
   "name": "clique"
  },
  "language_info": {
   "codemirror_mode": {
    "name": "ipython",
    "version": 3
   },
   "file_extension": ".py",
   "mimetype": "text/x-python",
   "name": "python",
   "nbconvert_exporter": "python",
   "pygments_lexer": "ipython3",
   "version": "3.9.18"
  }
 },
 "nbformat": 4,
 "nbformat_minor": 5
}
